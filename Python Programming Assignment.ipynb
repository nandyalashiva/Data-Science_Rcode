{
 "cells": [
  {
   "cell_type": "markdown",
   "id": "39b284d5-87d1-4ab2-899f-5cd455cb6b1b",
   "metadata": {},
   "source": [
    "##### Exercise 1: Prime Numbers"
   ]
  },
  {
   "cell_type": "code",
   "execution_count": 2,
   "id": "f2670b91-6ebc-4053-b079-e6c26865719c",
   "metadata": {},
   "outputs": [],
   "source": [
    "def prime(n):\n",
    "    if (n == 1):\n",
    "        return False\n",
    "    elif (n == 2):\n",
    "        return True\n",
    "    else:\n",
    "        for x in range (2, n):\n",
    "            if(n % x == 0):\n",
    "                return False\n",
    "        return True"
   ]
  },
  {
   "cell_type": "code",
   "execution_count": 3,
   "id": "7760e626-2c98-480b-9c58-091f7e67615b",
   "metadata": {},
   "outputs": [
    {
     "name": "stdout",
     "output_type": "stream",
     "text": [
      "True\n"
     ]
    }
   ],
   "source": [
    "print(prime(5))"
   ]
  },
  {
   "cell_type": "code",
   "execution_count": 4,
   "id": "23e7ddae-9561-4366-bac3-1a7a677190aa",
   "metadata": {},
   "outputs": [
    {
     "name": "stdout",
     "output_type": "stream",
     "text": [
      "False\n",
      "True\n",
      "False\n"
     ]
    }
   ],
   "source": [
    "print(prime(6))\n",
    "print(prime(7))\n",
    "print(prime(21))"
   ]
  },
  {
   "cell_type": "markdown",
   "id": "3f886963-75e1-4824-a76e-debced058f6a",
   "metadata": {},
   "source": [
    "##### Exercise 2: Product of Random Numbers"
   ]
  },
  {
   "cell_type": "code",
   "execution_count": 6,
   "id": "7c043fe2-830a-45ae-af6b-4baf41dcb5f1",
   "metadata": {},
   "outputs": [
    {
     "name": "stdout",
     "output_type": "stream",
     "text": [
      "Let's practice multplication\n",
      "What is 9 * 3\n"
     ]
    },
    {
     "name": "stdin",
     "output_type": "stream",
     "text": [
      "Enter your answer:  55\n"
     ]
    },
    {
     "name": "stdout",
     "output_type": "stream",
     "text": [
      "Incorrect. The correct answer is 27.\n"
     ]
    }
   ],
   "source": [
    "import random\n",
    "num1 = random.randint(1,10)\n",
    "num2 = random.randint(1,10)\n",
    "print(\"Let's practice multplication\")\n",
    "print(f'What is {num1} * {num2}')\n",
    "user_answer = int(input(\"Enter your answer: \"))\n",
    "correct_answer = num1 * num2\n",
    "try:\n",
    "    if user_answer == correct_answer:\n",
    "        print('correct! nice job.')\n",
    "    else:\n",
    "        print(f'Incorrect. The correct answer is {correct_answer}.')\n",
    "except ValueError:\n",
    "    print('please enter a valid integer.')"
   ]
  },
  {
   "cell_type": "code",
   "execution_count": null,
   "id": "8f55c4f6-83c2-4bf8-8200-60113a28e1ac",
   "metadata": {},
   "outputs": [],
   "source": []
  },
  {
   "cell_type": "markdown",
   "id": "4347c726-ede8-4bc8-93e2-9866bfc8f4b8",
   "metadata": {},
   "source": [
    "##### Exercise 3: Squares of Even/Odd Numbers"
   ]
  },
  {
   "cell_type": "code",
   "execution_count": 8,
   "id": "613f9a22-5c76-484f-adc8-c6a1e4087284",
   "metadata": {},
   "outputs": [
    {
     "name": "stdout",
     "output_type": "stream",
     "text": [
      "The square of number 100 is 10000\n",
      "The square of number 102 is 10404\n",
      "The square of number 104 is 10816\n",
      "The square of number 106 is 11236\n",
      "The square of number 108 is 11664\n",
      "The square of number 110 is 12100\n",
      "The square of number 112 is 12544\n",
      "The square of number 114 is 12996\n",
      "The square of number 116 is 13456\n",
      "The square of number 118 is 13924\n",
      "The square of number 120 is 14400\n",
      "The square of number 122 is 14884\n",
      "The square of number 124 is 15376\n",
      "The square of number 126 is 15876\n",
      "The square of number 128 is 16384\n",
      "The square of number 130 is 16900\n",
      "The square of number 132 is 17424\n",
      "The square of number 134 is 17956\n",
      "The square of number 136 is 18496\n",
      "The square of number 138 is 19044\n",
      "The square of number 140 is 19600\n",
      "The square of number 142 is 20164\n",
      "The square of number 144 is 20736\n",
      "The square of number 146 is 21316\n",
      "The square of number 148 is 21904\n",
      "The square of number 150 is 22500\n",
      "The square of number 152 is 23104\n",
      "The square of number 154 is 23716\n",
      "The square of number 156 is 24336\n",
      "The square of number 158 is 24964\n",
      "The square of number 160 is 25600\n",
      "The square of number 162 is 26244\n",
      "The square of number 164 is 26896\n",
      "The square of number 166 is 27556\n",
      "The square of number 168 is 28224\n",
      "The square of number 170 is 28900\n",
      "The square of number 172 is 29584\n",
      "The square of number 174 is 30276\n",
      "The square of number 176 is 30976\n",
      "The square of number 178 is 31684\n",
      "The square of number 180 is 32400\n",
      "The square of number 182 is 33124\n",
      "The square of number 184 is 33856\n",
      "The square of number 186 is 34596\n",
      "The square of number 188 is 35344\n",
      "The square of number 190 is 36100\n",
      "The square of number 192 is 36864\n",
      "The square of number 194 is 37636\n",
      "The square of number 196 is 38416\n",
      "The square of number 198 is 39204\n"
     ]
    }
   ],
   "source": [
    "for number in range(100,200):\n",
    "    if number % 2 == 0:\n",
    "        square = number ** 2\n",
    "        print(f'The square of number {number} is {square}')"
   ]
  },
  {
   "cell_type": "markdown",
   "id": "e5ad27f6-9006-4e06-a242-f5fdb4640303",
   "metadata": {},
   "source": [
    "##### Exercise 4: Word counter"
   ]
  },
  {
   "cell_type": "code",
   "execution_count": 10,
   "id": "399b9e72-1d1a-49d7-99ac-52fdca894e23",
   "metadata": {},
   "outputs": [
    {
     "name": "stdin",
     "output_type": "stream",
     "text": [
      "Enter a text:  A man is moving on bus\n"
     ]
    },
    {
     "name": "stdout",
     "output_type": "stream",
     "text": [
      "The number of words in the given text is: 6\n"
     ]
    }
   ],
   "source": [
    "text = input(\"Enter a text: \")\n",
    "words = text.split()\n",
    "word_count = len(words)\n",
    "print(f\"The number of words in the given text is: {word_count}\")\n"
   ]
  },
  {
   "cell_type": "markdown",
   "id": "13e444f2-fe2e-4805-ae7a-be5c8e493411",
   "metadata": {},
   "source": [
    "##### Exercise 5: Check for Palindrome"
   ]
  },
  {
   "cell_type": "code",
   "execution_count": 32,
   "id": "cc32ce3e-f912-495c-9d8e-cbb2b40b580a",
   "metadata": {},
   "outputs": [
    {
     "name": "stdout",
     "output_type": "stream",
     "text": [
      "False\n"
     ]
    }
   ],
   "source": [
    "import string\n",
    "\n",
    "def is_palindrome(text):\n",
    "    cleaned_text = ''.join(char.lower() for char in text if char.isalnum())\n",
    "    return cleaned_text == cleaned_text[::-1]\n",
    "print(is_palindrome(\"Hello, World!\"))    "
   ]
  },
  {
   "cell_type": "code",
   "execution_count": null,
   "id": "a7a06aed-b3cb-4361-89b3-2b460f0d8c19",
   "metadata": {},
   "outputs": [],
   "source": []
  }
 ],
 "metadata": {
  "kernelspec": {
   "display_name": "Python [conda env:base] *",
   "language": "python",
   "name": "conda-base-py"
  },
  "language_info": {
   "codemirror_mode": {
    "name": "ipython",
    "version": 3
   },
   "file_extension": ".py",
   "mimetype": "text/x-python",
   "name": "python",
   "nbconvert_exporter": "python",
   "pygments_lexer": "ipython3",
   "version": "3.12.7"
  }
 },
 "nbformat": 4,
 "nbformat_minor": 5
}
